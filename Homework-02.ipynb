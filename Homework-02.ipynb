{
 "cells": [
  {
   "cell_type": "code",
   "execution_count": 36,
   "id": "bba1b4f3",
   "metadata": {},
   "outputs": [],
   "source": [
    "import pandas as pd\n",
    "import numpy as np"
   ]
  },
  {
   "cell_type": "code",
   "execution_count": 37,
   "id": "a41ef197",
   "metadata": {},
   "outputs": [
    {
     "data": {
      "text/plain": [
       "9704"
      ]
     },
     "execution_count": 37,
     "metadata": {},
     "output_type": "execute_result"
    }
   ],
   "source": [
    "data=pd.read_csv('https://raw.githubusercontent.com/alexeygrigorev/datasets/master/car_fuel_efficiency.csv')\n",
    "len(data)"
   ]
  },
  {
   "cell_type": "code",
   "execution_count": 38,
   "id": "3fca044f",
   "metadata": {},
   "outputs": [
    {
     "data": {
      "text/html": [
       "<div>\n",
       "<style scoped>\n",
       "    .dataframe tbody tr th:only-of-type {\n",
       "        vertical-align: middle;\n",
       "    }\n",
       "\n",
       "    .dataframe tbody tr th {\n",
       "        vertical-align: top;\n",
       "    }\n",
       "\n",
       "    .dataframe thead th {\n",
       "        text-align: right;\n",
       "    }\n",
       "</style>\n",
       "<table border=\"1\" class=\"dataframe\">\n",
       "  <thead>\n",
       "    <tr style=\"text-align: right;\">\n",
       "      <th></th>\n",
       "      <th>engine_displacement</th>\n",
       "      <th>horsepower</th>\n",
       "      <th>vehicle_weight</th>\n",
       "      <th>model_year</th>\n",
       "      <th>fuel_efficiency_mpg</th>\n",
       "    </tr>\n",
       "  </thead>\n",
       "  <tbody>\n",
       "    <tr>\n",
       "      <th>0</th>\n",
       "      <td>170</td>\n",
       "      <td>159.0</td>\n",
       "      <td>3413.433759</td>\n",
       "      <td>2003</td>\n",
       "      <td>13.231729</td>\n",
       "    </tr>\n",
       "    <tr>\n",
       "      <th>1</th>\n",
       "      <td>130</td>\n",
       "      <td>97.0</td>\n",
       "      <td>3149.664934</td>\n",
       "      <td>2007</td>\n",
       "      <td>13.688217</td>\n",
       "    </tr>\n",
       "    <tr>\n",
       "      <th>2</th>\n",
       "      <td>170</td>\n",
       "      <td>78.0</td>\n",
       "      <td>3079.038997</td>\n",
       "      <td>2018</td>\n",
       "      <td>14.246341</td>\n",
       "    </tr>\n",
       "    <tr>\n",
       "      <th>3</th>\n",
       "      <td>220</td>\n",
       "      <td>NaN</td>\n",
       "      <td>2542.392402</td>\n",
       "      <td>2009</td>\n",
       "      <td>16.912736</td>\n",
       "    </tr>\n",
       "    <tr>\n",
       "      <th>4</th>\n",
       "      <td>210</td>\n",
       "      <td>140.0</td>\n",
       "      <td>3460.870990</td>\n",
       "      <td>2009</td>\n",
       "      <td>12.488369</td>\n",
       "    </tr>\n",
       "  </tbody>\n",
       "</table>\n",
       "</div>"
      ],
      "text/plain": [
       "   engine_displacement  horsepower  vehicle_weight  model_year  \\\n",
       "0                  170       159.0     3413.433759        2003   \n",
       "1                  130        97.0     3149.664934        2007   \n",
       "2                  170        78.0     3079.038997        2018   \n",
       "3                  220         NaN     2542.392402        2009   \n",
       "4                  210       140.0     3460.870990        2009   \n",
       "\n",
       "   fuel_efficiency_mpg  \n",
       "0            13.231729  \n",
       "1            13.688217  \n",
       "2            14.246341  \n",
       "3            16.912736  \n",
       "4            12.488369  "
      ]
     },
     "execution_count": 38,
     "metadata": {},
     "output_type": "execute_result"
    }
   ],
   "source": [
    "#Preparing the dataset\n",
    "cols = ['engine_displacement',\n",
    "        'horsepower',\n",
    "        'vehicle_weight',\n",
    "        'model_year',\n",
    "        'fuel_efficiency_mpg']\n",
    "\n",
    "#Subset the data to the only required columns\n",
    "df = data[cols]\n",
    "df.head()"
   ]
  },
  {
   "cell_type": "markdown",
   "id": "991be181",
   "metadata": {},
   "source": [
    "# Q1. There's one column with missing values. What is it?"
   ]
  },
  {
   "cell_type": "code",
   "execution_count": 40,
   "id": "479c0f2a",
   "metadata": {},
   "outputs": [
    {
     "data": {
      "text/plain": [
       "engine_displacement      0\n",
       "horsepower             708\n",
       "vehicle_weight           0\n",
       "model_year               0\n",
       "fuel_efficiency_mpg      0\n",
       "dtype: int64"
      ]
     },
     "execution_count": 40,
     "metadata": {},
     "output_type": "execute_result"
    }
   ],
   "source": [
    "df.isnull().sum()\n"
   ]
  },
  {
   "cell_type": "markdown",
   "id": "023647e6",
   "metadata": {},
   "source": [
    "# Q2. What's the median (50% percentile) for variable 'horsepower'?"
   ]
  },
  {
   "cell_type": "markdown",
   "id": "a39f9b10",
   "metadata": {},
   "source": [
    "```````````````````\n",
    "\n",
    "49\n",
    "99\n",
    "149\n",
    "199\n",
    "Prepare and split the dataset\n",
    "Shuffle the dataset (the filtered one you created above), use seed 42.\n",
    "Split your data in train/val/test sets, with 60%/20%/20% distribution.\n",
    "Use the same code as in the lectures\n",
    "\n",
    "```````````````````````"
   ]
  },
  {
   "cell_type": "code",
   "execution_count": 41,
   "id": "52aa4d94",
   "metadata": {},
   "outputs": [
    {
     "data": {
      "text/plain": [
       "np.float64(149.0)"
      ]
     },
     "execution_count": 41,
     "metadata": {},
     "output_type": "execute_result"
    }
   ],
   "source": [
    "df['horsepower'].median()"
   ]
  },
  {
   "cell_type": "code",
   "execution_count": null,
   "id": "97448598",
   "metadata": {},
   "outputs": [
    {
     "data": {
      "text/plain": [
       "(1940, 1940, 5824, 9704)"
      ]
     },
     "execution_count": 6,
     "metadata": {},
     "output_type": "execute_result"
    }
   ],
   "source": [
    "n=len(df)\n",
    "\n",
    "n_val=int(n*0.2)\n",
    "n_test=int(n*0.2)\n",
    "n_train=n-(n_val+n_test)\n",
    "\n",
    "n_val,n_test,n_train,n_val+n_test+n_train"
   ]
  },
  {
   "cell_type": "code",
   "execution_count": null,
   "id": "0e604eea",
   "metadata": {},
   "outputs": [
    {
     "data": {
      "text/html": [
       "<div>\n",
       "<style scoped>\n",
       "    .dataframe tbody tr th:only-of-type {\n",
       "        vertical-align: middle;\n",
       "    }\n",
       "\n",
       "    .dataframe tbody tr th {\n",
       "        vertical-align: top;\n",
       "    }\n",
       "\n",
       "    .dataframe thead th {\n",
       "        text-align: right;\n",
       "    }\n",
       "</style>\n",
       "<table border=\"1\" class=\"dataframe\">\n",
       "  <thead>\n",
       "    <tr style=\"text-align: right;\">\n",
       "      <th></th>\n",
       "      <th>engine_displacement</th>\n",
       "      <th>horsepower</th>\n",
       "      <th>vehicle_weight</th>\n",
       "      <th>model_year</th>\n",
       "      <th>fuel_efficiency_mpg</th>\n",
       "    </tr>\n",
       "  </thead>\n",
       "  <tbody>\n",
       "    <tr>\n",
       "      <th>3880</th>\n",
       "      <td>180</td>\n",
       "      <td>119.0</td>\n",
       "      <td>3582.745396</td>\n",
       "      <td>2012</td>\n",
       "      <td>11.345737</td>\n",
       "    </tr>\n",
       "    <tr>\n",
       "      <th>3881</th>\n",
       "      <td>240</td>\n",
       "      <td>152.0</td>\n",
       "      <td>2892.395450</td>\n",
       "      <td>2019</td>\n",
       "      <td>15.994232</td>\n",
       "    </tr>\n",
       "    <tr>\n",
       "      <th>3882</th>\n",
       "      <td>290</td>\n",
       "      <td>152.0</td>\n",
       "      <td>3515.849661</td>\n",
       "      <td>2003</td>\n",
       "      <td>12.600823</td>\n",
       "    </tr>\n",
       "    <tr>\n",
       "      <th>3883</th>\n",
       "      <td>170</td>\n",
       "      <td>121.0</td>\n",
       "      <td>2931.819348</td>\n",
       "      <td>2012</td>\n",
       "      <td>14.816853</td>\n",
       "    </tr>\n",
       "    <tr>\n",
       "      <th>3884</th>\n",
       "      <td>210</td>\n",
       "      <td>147.0</td>\n",
       "      <td>2614.520645</td>\n",
       "      <td>2008</td>\n",
       "      <td>16.126712</td>\n",
       "    </tr>\n",
       "    <tr>\n",
       "      <th>...</th>\n",
       "      <td>...</td>\n",
       "      <td>...</td>\n",
       "      <td>...</td>\n",
       "      <td>...</td>\n",
       "      <td>...</td>\n",
       "    </tr>\n",
       "    <tr>\n",
       "      <th>9699</th>\n",
       "      <td>140</td>\n",
       "      <td>164.0</td>\n",
       "      <td>2981.107371</td>\n",
       "      <td>2013</td>\n",
       "      <td>15.101802</td>\n",
       "    </tr>\n",
       "    <tr>\n",
       "      <th>9700</th>\n",
       "      <td>180</td>\n",
       "      <td>154.0</td>\n",
       "      <td>2439.525729</td>\n",
       "      <td>2004</td>\n",
       "      <td>17.962326</td>\n",
       "    </tr>\n",
       "    <tr>\n",
       "      <th>9701</th>\n",
       "      <td>220</td>\n",
       "      <td>138.0</td>\n",
       "      <td>2583.471318</td>\n",
       "      <td>2008</td>\n",
       "      <td>17.186587</td>\n",
       "    </tr>\n",
       "    <tr>\n",
       "      <th>9702</th>\n",
       "      <td>230</td>\n",
       "      <td>177.0</td>\n",
       "      <td>2905.527390</td>\n",
       "      <td>2011</td>\n",
       "      <td>15.331551</td>\n",
       "    </tr>\n",
       "    <tr>\n",
       "      <th>9703</th>\n",
       "      <td>270</td>\n",
       "      <td>140.0</td>\n",
       "      <td>2908.043477</td>\n",
       "      <td>2005</td>\n",
       "      <td>14.884467</td>\n",
       "    </tr>\n",
       "  </tbody>\n",
       "</table>\n",
       "<p>5824 rows × 5 columns</p>\n",
       "</div>"
      ],
      "text/plain": [
       "      engine_displacement  horsepower  vehicle_weight  model_year  \\\n",
       "3880                  180       119.0     3582.745396        2012   \n",
       "3881                  240       152.0     2892.395450        2019   \n",
       "3882                  290       152.0     3515.849661        2003   \n",
       "3883                  170       121.0     2931.819348        2012   \n",
       "3884                  210       147.0     2614.520645        2008   \n",
       "...                   ...         ...             ...         ...   \n",
       "9699                  140       164.0     2981.107371        2013   \n",
       "9700                  180       154.0     2439.525729        2004   \n",
       "9701                  220       138.0     2583.471318        2008   \n",
       "9702                  230       177.0     2905.527390        2011   \n",
       "9703                  270       140.0     2908.043477        2005   \n",
       "\n",
       "      fuel_efficiency_mpg  \n",
       "3880            11.345737  \n",
       "3881            15.994232  \n",
       "3882            12.600823  \n",
       "3883            14.816853  \n",
       "3884            16.126712  \n",
       "...                   ...  \n",
       "9699            15.101802  \n",
       "9700            17.962326  \n",
       "9701            17.186587  \n",
       "9702            15.331551  \n",
       "9703            14.884467  \n",
       "\n",
       "[5824 rows x 5 columns]"
      ]
     },
     "execution_count": 7,
     "metadata": {},
     "output_type": "execute_result"
    }
   ],
   "source": [
    "df_val=Mydata.iloc[:n_val]\n",
    "df_test=Mydata.iloc[n_val:n_val+n_test]\n",
    "df_train=Mydata.iloc[n_val+n_test:]\n",
    "df_train"
   ]
  },
  {
   "cell_type": "code",
   "execution_count": null,
   "id": "c7be7526",
   "metadata": {},
   "outputs": [
    {
     "data": {
      "text/plain": [
       "array([ 483, 7506, 8795, ..., 5390,  860, 7270], shape=(9704,))"
      ]
     },
     "execution_count": 8,
     "metadata": {},
     "output_type": "execute_result"
    }
   ],
   "source": [
    "idx=np.arange(n)\n",
    "np.random.seed(42)\n",
    "np.random.shuffle(idx)\n",
    "idx"
   ]
  },
  {
   "cell_type": "code",
   "execution_count": null,
   "id": "a8672baf",
   "metadata": {},
   "outputs": [
    {
     "data": {
      "text/plain": [
       "5824"
      ]
     },
     "execution_count": 9,
     "metadata": {},
     "output_type": "execute_result"
    }
   ],
   "source": [
    "df_train=Mydata.iloc[idx[:n_train]]\n",
    "df_val=Mydata.iloc[idx[n_train:n_train+n_val]]\n",
    "df_test=Mydata.iloc[idx[n_train+n_val:]]\n",
    "len(df_train)"
   ]
  },
  {
   "cell_type": "code",
   "execution_count": null,
   "id": "a6e39ab1",
   "metadata": {},
   "outputs": [],
   "source": [
    "y_train=np.log1p(df_train.fuel_efficiency_mpg.values)\n",
    "y_val=np.log1p(df_val.fuel_efficiency_mpg.values)\n",
    "y_test=np.log1p(df_test.fuel_efficiency_mpg.values)\n",
    "#len(df_train)"
   ]
  },
  {
   "cell_type": "markdown",
   "id": "1311130b",
   "metadata": {},
   "source": [
    "# Q3. \n",
    "````````````````\n",
    "We need to deal with missing values for the column from Q1.\n",
    "We have two options: fill it with 0 or with the mean of this variable.\n",
    "Try both options. For each, train a linear regression model without regularization using the code from the lessons.\n",
    "For computing the mean, use the training only!\n",
    "Use the validation dataset to evaluate the models and compare the RMSE of each option.\n",
    "Round the RMSE scores to 2 decimal digits using round(score, 2)\n",
    "Which option gives better RMSE?\n",
    "Options:\n",
    "\n",
    "With 0\n",
    "With mean\n",
    "Both are equally good\n",
    "\n",
    "````````````````````````\n"
   ]
  },
  {
   "cell_type": "code",
   "execution_count": null,
   "id": "1611bf2f",
   "metadata": {},
   "outputs": [],
   "source": [
    "\n",
    "\n",
    "def prepare_X(df):\n",
    "    df = df.copy()\n",
    "    df['age'] = 2023 - df.model_year\n",
    "    df = df.drop([\"model_year\"], axis=1)  # must reassign here\n",
    "    X = df.fillna(0).values\n",
    "    return X\n",
    "\n"
   ]
  },
  {
   "cell_type": "code",
   "execution_count": null,
   "id": "f53a42cc",
   "metadata": {},
   "outputs": [],
   "source": [
    "#Train a linear regression model\n",
    "def train_linear_regression(X, y):\n",
    "    ones = np.ones(X.shape[0])\n",
    "    X = np.column_stack([ones, X])\n",
    "\n",
    "    XTX = X.T.dot(X)\n",
    "    XTX_inv = np.linalg.inv(XTX)\n",
    "    w = XTX_inv.dot(X.T).dot(y)\n",
    "    \n",
    "    return w[0], w[1:]"
   ]
  },
  {
   "cell_type": "code",
   "execution_count": null,
   "id": "ab2d1863",
   "metadata": {},
   "outputs": [],
   "source": [
    "def rmse(y, y_pred):\n",
    "    error = y_pred - y\n",
    "    mse = (error ** 2).mean()\n",
    "    return np.sqrt(mse)"
   ]
  },
  {
   "cell_type": "code",
   "execution_count": null,
   "id": "9037c072",
   "metadata": {},
   "outputs": [
    {
     "name": "stdout",
     "output_type": "stream",
     "text": [
      "train_rmse 0.52\n",
      "validation_rmse 0.52\n"
     ]
    }
   ],
   "source": [
    "#Create copies of the split datasets\n",
    "df_train_1 = df_train.copy()\n",
    "df_val_1 = df_val.copy()\n",
    "\n",
    "\n",
    "y_train_orig = df_train_1.fuel_efficiency_mpg.values\n",
    "y_val_orig = df_val_1.fuel_efficiency_mpg.values\n",
    "\n",
    "\n",
    "\n",
    "del df_train_1 ['fuel_efficiency_mpg']\n",
    "del df_val_1['fuel_efficiency_mpg']\n",
    "\n",
    "#df_train_1['age'] = 2023 - df_train_1.model_year\n",
    "#X_train = df_train_1.fillna(0)\n",
    "#X_train = X_train.drop(['model_year'], axis=1)\n",
    "X_train = prepare_X(df_train_1)\n",
    "\n",
    "\n",
    "w_0, w = train_linear_regression(X_train, y_train_orig)\n",
    "y_pred = w_0 + X_train.dot(w)\n",
    "print('train_rmse', round(rmse(y_train_orig, y_pred),2))\n",
    "\n",
    "\n",
    "#df_val_1['age'] = 2023 - df_val_1.model_year\n",
    "#X_val = df_val_1.fillna(0)\n",
    "#X_val = X_val.drop(['model_year'], axis=1)\n",
    "X_val = prepare_X(df_val_1)\n",
    "y_pred = w_0 + X_val.dot(w)\n",
    "print('validation_rmse', round(rmse(y_val_orig, y_pred),2))"
   ]
  },
  {
   "cell_type": "code",
   "execution_count": null,
   "id": "acd9d24c",
   "metadata": {},
   "outputs": [
    {
     "name": "stdout",
     "output_type": "stream",
     "text": [
      "train_rmse 0.46\n",
      "validation_rmse 0.46\n"
     ]
    }
   ],
   "source": [
    "#Create copies of the split datasets\n",
    "df_train_2 = df_train.copy()\n",
    "df_val_2 = df_val.copy()\n",
    "\n",
    "\n",
    "y_train_orig = df_train_2.fuel_efficiency_mpg.values\n",
    "y_val_orig = df_val_2.fuel_efficiency_mpg.values\n",
    "\n",
    "\n",
    "del df_train_2 ['fuel_efficiency_mpg']\n",
    "del df_val_2['fuel_efficiency_mpg']\n",
    "\n",
    "df_train_2['age'] = 2023 - df_train_2.model_year\n",
    "X_train = df_train_2.fillna(df_train_2['horsepower'].mean())\n",
    "X_train = X_train.drop(['model_year'], axis=1)\n",
    "\n",
    "\n",
    "\n",
    "w_0, w = train_linear_regression(X_train.values, y_train_orig)\n",
    "y_pred = w_0 + X_train.dot(w)\n",
    "print('train_rmse', round(rmse(y_train_orig, y_pred), 2))\n",
    "\n",
    "\n",
    "df_val_2['age'] = 2023 - df_val_2.model_year\n",
    "X_val = df_val_2.fillna(df_train_2['horsepower'].mean())\n",
    "X_val = X_val.drop(['model_year'], axis=1).values\n",
    "\n",
    "y_pred = w_0 + X_val.dot(w)\n",
    "print('validation_rmse', round(rmse(y_val_orig, y_pred),2))"
   ]
  },
  {
   "cell_type": "markdown",
   "id": "743216d8",
   "metadata": {},
   "source": [
    "# Question 4\n",
    "\n",
    "`````````````````\n",
    "Now let's train a regularized linear regression.\n",
    "For this question, fill the NAs with 0.\n",
    "Try different values of r from this list: [0, 0.01, 0.1, 1, 5, 10, 100].\n",
    "Use RMSE to evaluate the model on the validation dataset.\n",
    "Round the RMSE scores to 2 decimal digits.\n",
    "Which r gives the best RMSE?\n",
    "If multiple options give the same best RMSE, select the smallest r.\n",
    "\n",
    "Options:\n",
    "\n",
    "0\n",
    "0.01\n",
    "1\n",
    "10\n",
    "100\n",
    "```````````````````````"
   ]
  },
  {
   "cell_type": "code",
   "execution_count": null,
   "id": "383bc1f1",
   "metadata": {},
   "outputs": [],
   "source": [
    "def train_linear_regression_reg(X,y,r):\n",
    "    ones=np.ones(X.shape[0])\n",
    "    X=np.column_stack([ones,X])\n",
    "    \n",
    "    XTX=X.T.dot(X)\n",
    "    XTX= XTX+r * np.eye(XTX.shape[0])\n",
    "    XTX_inv=np.linalg.inv(XTX)\n",
    "    w_full=XTX_inv.dot(X.T).dot(y)\n",
    "\n",
    "    return w_full[0],w_full[1:]"
   ]
  },
  {
   "cell_type": "code",
   "execution_count": null,
   "id": "ea41a773",
   "metadata": {},
   "outputs": [
    {
     "name": "stdout",
     "output_type": "stream",
     "text": [
      "0 1.8140296824348843 0\n",
      "0.01 1.7835433390901256 0\n",
      "0.1 1.5492987211510088 0\n",
      "1 0.6711785475105135 0\n",
      "5 0.19331553575477992 0\n",
      "10 0.1039341967322848 0\n",
      "100 0.014609192455964719 0\n"
     ]
    }
   ],
   "source": [
    "for r in  [0, 0.01, 0.1, 1, 5, 10, 100]:\n",
    " X_val= prepare_X(df_val)\n",
    " w0,w=train_linear_regression_reg(X_val,y_val,r=r)\n",
    "\n",
    " X_val=prepare_X(df_val)\n",
    " y_pred = w0 + X_val.dot(w)\n",
    "\n",
    " score= rmse(y_val,y_pred) \n",
    " print(r , w0 , round(score))\n",
    "\n"
   ]
  },
  {
   "cell_type": "markdown",
   "id": "f9e5be38",
   "metadata": {},
   "source": [
    "# Question 5\n",
    "```````````````````````````\n",
    "We used seed 42 for splitting the data. Let's find out how selecting the seed influences our score.\n",
    "Try different seed values: [0, 1, 2, 3, 4, 5, 6, 7, 8, 9].\n",
    "For each seed, do the train/validation/test split with 60%/20%/20% distribution.\n",
    "Fill the missing values with 0 and train a model without regularization.\n",
    "For each seed, evaluate the model on the validation dataset and collect the RMSE scores.\n",
    "What's the standard deviation of all the scores? To compute the standard deviation, use np.std.\n",
    "Round the result to 3 decimal digits (round(std, 3))\n",
    "What's the value of std?\n",
    "\n",
    "0.001\n",
    "0.006\n",
    "0.060\n",
    "0.600\n",
    "Note: Standard deviation shows how different the values are. If it's low, then all values are approximately the same. If it's high, the values are different. If standard deviation of scores is low, then our model is stable.\n",
    "\n",
    "````````````````````````````````````"
   ]
  },
  {
   "cell_type": "code",
   "execution_count": null,
   "id": "b510725d",
   "metadata": {},
   "outputs": [
    {
     "name": "stdout",
     "output_type": "stream",
     "text": [
      "engine_displacement      0\n",
      "horsepower             429\n",
      "vehicle_weight           0\n",
      "model_year               0\n",
      "fuel_efficiency_mpg      0\n",
      "dtype: int64\n"
     ]
    }
   ],
   "source": [
    "idx=np.arange(n)\n",
    "df_train = {}\n",
    "df_val = {}\n",
    "df_test = {}\n",
    "for s in  [0, 1, 2, 3, 4, 5, 6, 7, 8, 9]:\n",
    " np.random.seed(s)\n",
    " np.random.shuffle(idx)\n",
    " df_train[s]=Mydata.iloc[idx[:n_train]]\n",
    " df_val[s]=Mydata.iloc[idx[n_train:n_train+n_val]]\n",
    " df_test[s]=Mydata.iloc[idx[n_train+n_val:]]\n",
    "\n",
    "print(df_train[3].isnull().sum()) "
   ]
  },
  {
   "cell_type": "code",
   "execution_count": null,
   "id": "5f99925e",
   "metadata": {},
   "outputs": [],
   "source": [
    "base=['engine_displacement','horsepower','vehicle_weight','model_year']\n",
    "X_val={}\n",
    "for s in  [0, 1, 2, 3, 4, 5, 6, 7, 8, 9]:\n",
    "  X_val[s]=df_val[s][base].fillna(0).values\n"
   ]
  },
  {
   "cell_type": "code",
   "execution_count": null,
   "id": "186b257e",
   "metadata": {},
   "outputs": [],
   "source": [
    "def train_linear_regression(X,y):\n",
    "    ones=np.ones(X.shape[0])\n",
    "    X=np.column_stack([ones,X])\n",
    "    \n",
    "    XTX=X.T.dot(X)\n",
    "    XTX_inv=np.linalg.inv(XTX)\n",
    "    w_full=XTX_inv.dot(X.T).dot(y)\n",
    "\n",
    "    return w_full[0],w_full[1:]"
   ]
  },
  {
   "cell_type": "code",
   "execution_count": null,
   "id": "e909f02b",
   "metadata": {},
   "outputs": [
    {
     "name": "stdout",
     "output_type": "stream",
     "text": [
      "{0: np.float64(0.17167002860985825), 1: np.float64(0.17169413429906552), 2: np.float64(0.171710789936451), 3: np.float64(0.17177814527048346), 4: np.float64(0.17175751326167113), 5: np.float64(0.1717463463068836), 6: np.float64(0.1715271977647743), 7: np.float64(0.17150080716195343), 8: np.float64(0.17152781154752328), 9: np.float64(0.17172327834406723)}\n"
     ]
    },
    {
     "data": {
      "text/plain": [
       "array([0.17167003, 0.17169413, 0.17171079, 0.17177815, 0.17175751,\n",
       "       0.17174635, 0.1715272 , 0.17150081, 0.17152781, 0.17172328])"
      ]
     },
     "execution_count": 21,
     "metadata": {},
     "output_type": "execute_result"
    }
   ],
   "source": [
    "w0={}\n",
    "w={}\n",
    "y_pred={}\n",
    "scores={}\n",
    "def rmse(y,y_pred):\n",
    "    se=(y-y_pred)**2\n",
    "    mse=se.mean()\n",
    "    return np.sqrt(mse)\n",
    "for s in  [0, 1, 2, 3, 4, 5, 6, 7, 8, 9]:\n",
    " w0[s],w[s]=train_linear_regression(X_val[s],y_val)\n",
    " y_pred[s]=w0[s] + X_val[s].dot(w[s])\n",
    " scores[s]=rmse(y_val,y_pred[s])\n",
    "#  print(w0[s],w[s]\n",
    "print(scores)\n",
    "score_values = np.array(list(scores.values()))\n",
    "score_values"
   ]
  },
  {
   "cell_type": "code",
   "execution_count": null,
   "id": "89e66bf0",
   "metadata": {},
   "outputs": [
    {
     "data": {
      "text/plain": [
       "np.float64(0.0001)"
      ]
     },
     "execution_count": 22,
     "metadata": {},
     "output_type": "execute_result"
    }
   ],
   "source": [
    "std = np.std(score_values)\n",
    "std = round(std,4)\n",
    "std"
   ]
  },
  {
   "cell_type": "markdown",
   "id": "8592a250",
   "metadata": {},
   "source": [
    "# Question 6\n",
    "\n",
    "```\n",
    "Split the dataset like previously, use seed 9.\n",
    "Combine train and validation datasets.\n",
    "Fill the missing values with 0 and train a model with r=0.001.\n",
    "What's the RMSE on the test dataset?\n",
    "Options:\n",
    "\n",
    "0.15\n",
    "0.515\n",
    "5.15\n",
    "51.5\n",
    "\n",
    "`````````````````````"
   ]
  },
  {
   "cell_type": "code",
   "execution_count": null,
   "id": "ed4bb027",
   "metadata": {},
   "outputs": [],
   "source": [
    "def train_linear_regression_reg(X,y,r):\n",
    "    ones=np.ones(X.shape[0])\n",
    "    X=np.column_stack([ones,X])\n",
    "    \n",
    "    XTX=X.T.dot(X)\n",
    "    XTX= XTX+r * np.eye(XTX.shape[0])\n",
    "    XTX_inv=np.linalg.inv(XTX)\n",
    "    w_full=XTX_inv.dot(X.T).dot(y)\n",
    "\n",
    "    return w_full[0],w_full[1:]"
   ]
  },
  {
   "cell_type": "code",
   "execution_count": null,
   "id": "71789a1d",
   "metadata": {},
   "outputs": [],
   "source": [
    "def prepare_X(df):\n",
    "    df = df.copy()\n",
    "    df['age'] = 2023 - df.model_year\n",
    "    df = df.drop([\"model_year\"], axis=1)  # must reassign here\n",
    "    X = df.fillna(0).values\n",
    "    return X"
   ]
  },
  {
   "cell_type": "code",
   "execution_count": null,
   "id": "f0419fdd",
   "metadata": {},
   "outputs": [],
   "source": [
    "def rmse(y, y_pred):\n",
    "    error = y_pred - y\n",
    "    mse = (error ** 2).mean()\n",
    "    return np.sqrt(mse)"
   ]
  },
  {
   "cell_type": "code",
   "execution_count": null,
   "id": "1979c7d2",
   "metadata": {},
   "outputs": [
    {
     "name": "stdout",
     "output_type": "stream",
     "text": [
      "Test RMSE: 0.516\n"
     ]
    }
   ],
   "source": [
    "np.random.seed(9)\n",
    "\n",
    "# split\n",
    "n = len(df)\n",
    "n_val = int(0.2 * n)\n",
    "n_test = int(0.2 * n)\n",
    "n_train = n - (n_val + n_test)\n",
    "\n",
    "idx = np.arange(n)\n",
    "np.random.shuffle(idx)\n",
    "\n",
    "df_shuffled = df.iloc[idx]\n",
    "\n",
    "df_train = df_shuffled.iloc[:n_train].copy()\n",
    "df_val   = df_shuffled.iloc[n_train:n_train+n_val].copy()\n",
    "df_test  = df_shuffled.iloc[n_train+n_val:].copy()\n",
    "\n",
    "# combine train + val\n",
    "df_full_train = pd.concat([df_train, df_val]).reset_index(drop=True)\n",
    "\n",
    "# targets\n",
    "y_full_train = df_full_train.fuel_efficiency_mpg.values\n",
    "y_test = df_test.fuel_efficiency_mpg.values\n",
    "\n",
    "# features\n",
    "df_full_train = df_full_train.drop(columns=['fuel_efficiency_mpg'])\n",
    "df_test_X = df_test.drop(columns=['fuel_efficiency_mpg'])\n",
    "\n",
    "X_full_train = prepare_X(df_full_train)\n",
    "X_test = prepare_X(df_test_X)\n",
    "\n",
    "# train with r=0.001\n",
    "w_0, w = train_linear_regression_reg(X_full_train, y_full_train, r=0.001)\n",
    "\n",
    "# predict on test\n",
    "y_pred = w_0 + X_test.dot(w)\n",
    "\n",
    "# evaluate\n",
    "test_rmse = rmse(y_test, y_pred)\n",
    "print(\"Test RMSE:\", round(test_rmse, 3))"
   ]
  }
 ],
 "metadata": {
  "kernelspec": {
   "display_name": "Python 3",
   "language": "python",
   "name": "python3"
  },
  "language_info": {
   "codemirror_mode": {
    "name": "ipython",
    "version": 3
   },
   "file_extension": ".py",
   "mimetype": "text/x-python",
   "name": "python",
   "nbconvert_exporter": "python",
   "pygments_lexer": "ipython3",
   "version": "3.13.7"
  }
 },
 "nbformat": 4,
 "nbformat_minor": 5
}
